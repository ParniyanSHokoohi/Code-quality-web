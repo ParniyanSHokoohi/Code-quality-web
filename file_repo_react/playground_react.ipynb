{
 "cells": [
  {
   "cell_type": "code",
   "execution_count": 2,
   "metadata": {},
   "outputs": [
    {
     "name": "stdout",
     "output_type": "stream",
     "text": [
      "93\n",
      "0\n",
      "https://github.com/BosNaufal/vue-mini-shop\n",
      "1\n",
      "https://github.com/tuture-dev/vue-online-shop-frontend\n",
      "2\n",
      "https://github.com/aimeos/aimeos\n",
      "3\n",
      "https://github.com/tuture-dev/vue-online-shop-backend\n",
      "4\n",
      "https://github.com/ananyaneogi/a-vue-shop\n",
      "5\n",
      "https://github.com/F-loat/unique\n",
      "6\n",
      "https://github.com/bedus-creation/Shopping-Sahuba\n",
      "7\n",
      "https://github.com/Stray-Kite/Online_Shopping\n",
      "8\n",
      "https://github.com/Adhiambo-Cynthia/onlineshop\n",
      "9\n",
      "https://github.com/ozoono/vue-shop\n",
      "10\n",
      "https://github.com/haohaonan103/Springboot-onlineShopping\n",
      "11\n",
      "https://github.com/HdLily/vue-shopping\n",
      "12\n",
      "https://github.com/fong06/online-shop-with-vue\n",
      "13\n",
      "https://github.com/CassielLee/vue-online-shop-backend\n",
      "14\n",
      "https://github.com/w-kuiq/vue-online-shop-frontend\n",
      "15\n",
      "https://github.com/iabhishekraj/OnlineShopping-NodeJS-ExpressJS-VueJs-MySQL\n",
      "16\n",
      "https://github.com/BrianKeybet/Vue-Online-Shopping\n",
      "17\n",
      "https://github.com/dcwik96/OnlineShop\n",
      "18\n",
      "https://github.com/programmerCYY/online_shop\n",
      "19\n",
      "https://github.com/wizard-intraining/vueTry\n",
      "20\n",
      "https://github.com/wangshiz/fuji-portal\n",
      "21\n",
      "https://github.com/vscchencc/vue-online-shop\n",
      "22\n",
      "https://github.com/pt-phone-home/vue-onlineShop\n",
      "23\n",
      "https://github.com/ultramarichka/Vue3-online-shop\n",
      "24\n",
      "https://github.com/T882200/vueshop\n",
      "25\n",
      "https://github.com/HalShaw/Online-shop\n",
      "26\n",
      "https://github.com/MoiOcanas/Vue-shop\n",
      "27\n",
      "https://github.com/aririfani/vue-shop\n",
      "28\n",
      "https://github.com/rob-digital/Vue---Online-Shop-Imitation\n",
      "29\n",
      "https://github.com/gxhao2020/vue-online-shop-frontend\n",
      "30\n",
      "https://github.com/lifechat/Vue3-PyOnlineShop\n",
      "31\n",
      "https://github.com/tanght19/eshop\n",
      "32\n",
      "https://github.com/Aucdmn/OnlineShopping\n",
      "33\n",
      "https://github.com/zzzzzjhhhh/vue-online-shop\n",
      "34\n",
      "https://github.com/chenhui996/Vue-Online-Shop\n",
      "35\n",
      "https://github.com/JunZhenSun/Vue-online-shop\n",
      "36\n",
      "https://github.com/CheneyGuo916/vue-online-shop-backend\n",
      "37\n",
      "https://github.com/liubrook/vue-online-shop\n",
      "38\n",
      "https://github.com/gxhao2020/vue-online-shop-backend\n",
      "39\n",
      "https://github.com/Arrrrray/vue-online-shop-backend\n",
      "40\n",
      "https://github.com/liutkevych/vue-online-shop\n",
      "41\n",
      "https://github.com/jay6697117/vue-online-shop-frontend\n",
      "42\n",
      "https://github.com/lljoyful/vue_shop_online\n",
      "43\n",
      "https://github.com/blackwaterstar/online_shop_vue_admin\n",
      "44\n",
      "https://github.com/Arrrrray/vue-online-shop-frontend\n",
      "45\n",
      "https://github.com/chenhui996/Vue-Online-Shop\n",
      "46\n",
      "https://github.com/zzzzzjhhhh/vue-online-shop\n",
      "47\n",
      "https://github.com/JunZhenSun/Vue-online-shop\n",
      "48\n",
      "https://github.com/DoubleWoodLin/vue-online-shop\n",
      "49\n",
      "https://github.com/haidi20/online-shop-dengan-vue\n",
      "50\n",
      "https://github.com/jay6697117/vue-online-shop-frontend\n",
      "51\n",
      "https://github.com/elysium88/vue-online-shop-backend\n",
      "52\n",
      "https://github.com/Honglin-Lu/Online_Shop_Frontend_Vue\n",
      "53\n",
      "https://github.com/liwei3380/vue-online-shop-backend\n",
      "54\n",
      "https://github.com/DoubleWoodLin/vue-online-shop\n",
      "55\n",
      "https://github.com/lljoyful/vue_shop_online\n",
      "56\n",
      "https://github.com/blackwaterstar/online_shop_vue_admin\n",
      "57\n",
      "https://github.com/ShenJet/piwubang\n",
      "58\n",
      "https://github.com/giwatest/MxShop\n",
      "59\n",
      "https://github.com/cagilan/online-product-purchase-vue\n",
      "60\n",
      "https://github.com/yeminko/online-shop\n",
      "61\n",
      "https://github.com/tomleb3/bookie\n",
      "62\n",
      "https://github.com/AnnisaRizki30/FE-VueJs-Nuxt-Online-Shopping-Web\n",
      "63\n",
      "https://github.com/siattesting/vueonlineshop\n",
      "64\n",
      "https://github.com/maheralayoubi/NodeJS-VueJS-Online-Shop\n",
      "65\n",
      "https://github.com/agampreetsingh/shoppingAppVue\n",
      "66\n",
      "https://github.com/DaliaTarek96/simple-online-shopping-using-vue\n",
      "67\n",
      "https://github.com/oliverrochester/Online-Shopping-App-Vue.js\n",
      "68\n",
      "https://github.com/miyasinarafat/vue-store\n",
      "69\n",
      "https://github.com/NasrinHaidari/Vue-fundamental\n",
      "70\n",
      "https://github.com/hetiansu5/vue-mall\n",
      "71\n",
      "https://github.com/rp88imxo/RmlOnlineShop\n",
      "72\n",
      "https://github.com/yichengyiguo/onlineShop\n",
      "73\n",
      "https://github.com/Stoneleee/online-shop\n",
      "74\n",
      "https://github.com/DaSun30/vue_shop\n",
      "75\n",
      "https://github.com/Nereitay/C.C.Online\n",
      "76\n",
      "https://github.com/jczzz/vue-express-online-shop-v1\n",
      "77\n",
      "https://github.com/janesser/build-an-online-shop-with-vue-ts\n",
      "78\n",
      "https://github.com/isbard/ScotchVueShop\n",
      "79\n",
      "https://github.com/flaredragon/Ostore\n",
      "80\n",
      "https://github.com/VladislavDeveloper/e-shop_onVue.js\n",
      "81\n",
      "https://github.com/kryukalexander/shopping-list\n",
      "82\n",
      "https://github.com/MaxKortelov/shop-page\n",
      "83\n",
      "https://github.com/VladislavDeveloper/e-shop_onVue_webpack\n",
      "84\n",
      "https://github.com/Stanislavskiy/vue_cart\n",
      "85\n",
      "https://github.com/Mistergpofficial/meeks-onlinestore-rest-api\n",
      "86\n",
      "https://github.com/YunYon-Bank/yunyon-turoturo\n",
      "87\n",
      "https://github.com/AmanAzim/E-watch-store-VueJs\n",
      "88\n",
      "https://github.com/odhiamboatieno/Laravel-Vue-JS-eCommerce-Platfom\n",
      "89\n",
      "https://github.com/atomasso/CheckoutSystem\n",
      "90\n",
      "https://github.com/atomasso/CheckoutSystem\n",
      "91\n",
      "https://github.com/matt185/store-simulator\n",
      "92\n",
      "https://github.com/RIDUMATICS/Shoppers-API\n"
     ]
    }
   ],
   "source": [
    "import os\n",
    "import pickle\n",
    "\n",
    "with open('repo_urls_react.pkl', 'rb') as f:\n",
    "    repo_urls = pickle.load(f)\n",
    "print(len(repo_urls))\n",
    "for i, repo_url in enumerate(repo_urls):\n",
    "    print(i)\n",
    "    print(repo_url)\n",
    "    os.system(f'git clone {repo_url}')"
   ]
  },
  {
   "cell_type": "code",
   "execution_count": 4,
   "metadata": {},
   "outputs": [],
   "source": [
    "import pickle\n",
    "from pprint import pprint"
   ]
  },
  {
   "cell_type": "code",
   "execution_count": 12,
   "metadata": {},
   "outputs": [],
   "source": [
    "with open('attributes', 'rb') as f:\n",
    "    attrs = pickle.load(f)"
   ]
  },
  {
   "cell_type": "code",
   "execution_count": 13,
   "metadata": {},
   "outputs": [
    {
     "name": "stdout",
     "output_type": "stream",
     "text": [
      "{}\n"
     ]
    }
   ],
   "source": [
    "print(attrs)"
   ]
  },
  {
   "cell_type": "code",
   "execution_count": 19,
   "metadata": {},
   "outputs": [
    {
     "data": {
      "text/plain": [
       "['https://github.com/BosNaufal/vue-mini-shop', 'https://github.com/tuture-dev/vue-online-shop-frontend', 'https://github.com/aimeos/aimeos', 'https://github.com/tuture-dev/vue-online-shop-backend', 'https://github.com/ananyaneogi/a-vue-shop', 'https://github.com/F-loat/unique', 'https://github.com/bedus-creation/Shopping-Sahuba', 'https://github.com/Stray-Kite/Online_Shopping', 'https://github.com/Adhiambo-Cynthia/onlineshop', 'https://github.com/ozoono/vue-shop', 'https://github.com/haohaonan103/Springboot-onlineShopping', 'https://github.com/HdLily/vue-shopping', 'https://github.com/fong06/online-shop-with-vue', 'https://github.com/CassielLee/vue-online-shop-backend', 'https://github.com/w-kuiq/vue-online-shop-frontend', 'https://github.com/iabhishekraj/OnlineShopping-NodeJS-ExpressJS-VueJs-MySQL', 'https://github.com/BrianKeybet/Vue-Online-Shopping', 'https://github.com/dcwik96/OnlineShop', 'https://github.com/programmerCYY/online_shop', 'https://github.com/wizard-intraining/vueTry', 'https://github.com/wangshiz/fuji-portal', 'https://github.com/vscchencc/vue-online-shop', 'https://github.com/pt-phone-home/vue-onlineShop', 'https://github.com/ultramarichka/Vue3-online-shop', 'https://github.com/T882200/vueshop', 'https://github.com/HalShaw/Online-shop', 'https://github.com/MoiOcanas/Vue-shop', 'https://github.com/aririfani/vue-shop', 'https://github.com/rob-digital/Vue---Online-Shop-Imitation', 'https://github.com/gxhao2020/vue-online-shop-frontend', 'https://github.com/lifechat/Vue3-PyOnlineShop', 'https://github.com/tanght19/eshop', 'https://github.com/Aucdmn/OnlineShopping', 'https://github.com/zzzzzjhhhh/vue-online-shop', 'https://github.com/chenhui996/Vue-Online-Shop', 'https://github.com/JunZhenSun/Vue-online-shop', 'https://github.com/CheneyGuo916/vue-online-shop-backend', 'https://github.com/liubrook/vue-online-shop', 'https://github.com/gxhao2020/vue-online-shop-backend', 'https://github.com/Arrrrray/vue-online-shop-backend', 'https://github.com/liutkevych/vue-online-shop', 'https://github.com/jay6697117/vue-online-shop-frontend', 'https://github.com/lljoyful/vue_shop_online', 'https://github.com/blackwaterstar/online_shop_vue_admin', 'https://github.com/Arrrrray/vue-online-shop-frontend', 'https://github.com/chenhui996/Vue-Online-Shop', 'https://github.com/zzzzzjhhhh/vue-online-shop', 'https://github.com/JunZhenSun/Vue-online-shop', 'https://github.com/DoubleWoodLin/vue-online-shop', 'https://github.com/haidi20/online-shop-dengan-vue', 'https://github.com/jay6697117/vue-online-shop-frontend', 'https://github.com/elysium88/vue-online-shop-backend', 'https://github.com/Honglin-Lu/Online_Shop_Frontend_Vue', 'https://github.com/liwei3380/vue-online-shop-backend', 'https://github.com/DoubleWoodLin/vue-online-shop', 'https://github.com/lljoyful/vue_shop_online', 'https://github.com/blackwaterstar/online_shop_vue_admin', 'https://github.com/ShenJet/piwubang', 'https://github.com/giwatest/MxShop', 'https://github.com/cagilan/online-product-purchase-vue', 'https://github.com/yeminko/online-shop', 'https://github.com/tomleb3/bookie', 'https://github.com/AnnisaRizki30/FE-VueJs-Nuxt-Online-Shopping-Web', 'https://github.com/siattesting/vueonlineshop', 'https://github.com/maheralayoubi/NodeJS-VueJS-Online-Shop', 'https://github.com/agampreetsingh/shoppingAppVue', 'https://github.com/DaliaTarek96/simple-online-shopping-using-vue', 'https://github.com/oliverrochester/Online-Shopping-App-Vue.js', 'https://github.com/miyasinarafat/vue-store', 'https://github.com/NasrinHaidari/Vue-fundamental', 'https://github.com/hetiansu5/vue-mall', 'https://github.com/rp88imxo/RmlOnlineShop', 'https://github.com/yichengyiguo/onlineShop', 'https://github.com/Stoneleee/online-shop', 'https://github.com/DaSun30/vue_shop', 'https://github.com/Nereitay/C.C.Online', 'https://github.com/jczzz/vue-express-online-shop-v1', 'https://github.com/janesser/build-an-online-shop-with-vue-ts', 'https://github.com/isbard/ScotchVueShop', 'https://github.com/flaredragon/Ostore', 'https://github.com/VladislavDeveloper/e-shop_onVue.js', 'https://github.com/kryukalexander/shopping-list', 'https://github.com/MaxKortelov/shop-page', 'https://github.com/VladislavDeveloper/e-shop_onVue_webpack', 'https://github.com/Stanislavskiy/vue_cart', 'https://github.com/Mistergpofficial/meeks-onlinestore-rest-api', 'https://github.com/YunYon-Bank/yunyon-turoturo', 'https://github.com/AmanAzim/E-watch-store-VueJs', 'https://github.com/odhiamboatieno/Laravel-Vue-JS-eCommerce-Platfom', 'https://github.com/atomasso/CheckoutSystem', 'https://github.com/atomasso/CheckoutSystem', 'https://github.com/matt185/store-simulator', 'https://github.com/RIDUMATICS/Shoppers-API']"
      ]
     },
     "execution_count": 19,
     "metadata": {},
     "output_type": "execute_result"
    }
   ],
   "source": [
    "repo_urls"
   ]
  },
  {
   "cell_type": "code",
   "execution_count": 20,
   "metadata": {},
   "outputs": [],
   "source": [
    "repo_set = set(repo_urls)\n"
   ]
  },
  {
   "cell_type": "code",
   "execution_count": 21,
   "metadata": {},
   "outputs": [
    {
     "data": {
      "text/plain": [
       "85"
      ]
     },
     "execution_count": 21,
     "metadata": {},
     "output_type": "execute_result"
    }
   ],
   "source": [
    "len(repo_set)"
   ]
  },
  {
   "cell_type": "code",
   "execution_count": 11,
   "metadata": {},
   "outputs": [
    {
     "data": {
      "text/plain": [
       "0"
      ]
     },
     "execution_count": 11,
     "metadata": {},
     "output_type": "execute_result"
    }
   ],
   "source": [
    "os.system(f'git clone {repo_urls[0]}')"
   ]
  },
  {
   "cell_type": "code",
   "execution_count": 17,
   "metadata": {},
   "outputs": [],
   "source": []
  },
  {
   "cell_type": "code",
   "execution_count": 18,
   "metadata": {},
   "outputs": [
    {
     "data": {
      "text/plain": [
       "93"
      ]
     },
     "execution_count": 18,
     "metadata": {},
     "output_type": "execute_result"
    }
   ],
   "source": [
    "len(repo_urls)"
   ]
  },
  {
   "cell_type": "code",
   "execution_count": null,
   "metadata": {},
   "outputs": [],
   "source": []
  }
 ],
 "metadata": {
  "kernelspec": {
   "display_name": "Python 3.6.8 64-bit ('3.6.8')",
   "language": "python",
   "name": "python3"
  },
  "language_info": {
   "codemirror_mode": {
    "name": "ipython",
    "version": 3
   },
   "file_extension": ".py",
   "mimetype": "text/x-python",
   "name": "python",
   "nbconvert_exporter": "python",
   "pygments_lexer": "ipython3",
   "version": "3.6.8"
  },
  "orig_nbformat": 4,
  "vscode": {
   "interpreter": {
    "hash": "a3084050b1e003d70349b096455327c8845641a2efdeb085f368b3b3c543fc47"
   }
  }
 },
 "nbformat": 4,
 "nbformat_minor": 2
}
