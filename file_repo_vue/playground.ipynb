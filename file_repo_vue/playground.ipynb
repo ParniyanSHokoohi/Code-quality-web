{
 "cells": [
  {
   "cell_type": "code",
   "execution_count": 15,
   "metadata": {},
   "outputs": [],
   "source": [
    "import os\n",
    "import pickle\n",
    "\n",
    "with open('repo_urls.pkl', 'rb') as f:\n",
    "    repo_urls = pickle.load(f)\n",
    "print(len(repo_urls))\n",
    "for i, repo_url in enumerate(repo_urls):\n",
    "    print(i)\n",
    "    print(repo_url)\n",
    "    os.system(f'git clone {repo_url}')"
   ]
  },
  {
   "cell_type": "code",
   "execution_count": 4,
   "metadata": {},
   "outputs": [],
   "source": [
    "import pickle\n",
    "from pprint import pprint"
   ]
  },
  {
   "cell_type": "code",
   "execution_count": 12,
   "metadata": {},
   "outputs": [],
   "source": [
    "with open('attributes', 'rb') as f:\n",
    "    attrs = pickle.load(f)"
   ]
  },
  {
   "cell_type": "code",
   "execution_count": 13,
   "metadata": {},
   "outputs": [
    {
     "name": "stdout",
     "output_type": "stream",
     "text": [
      "{}\n"
     ]
    }
   ],
   "source": [
    "print(attrs)"
   ]
  },
  {
   "cell_type": "code",
   "execution_count": 19,
   "metadata": {},
   "outputs": [
    {
     "data": {
      "text/plain": [
       "['https://github.com/BosNaufal/vue-mini-shop', 'https://github.com/tuture-dev/vue-online-shop-frontend', 'https://github.com/aimeos/aimeos', 'https://github.com/tuture-dev/vue-online-shop-backend', 'https://github.com/ananyaneogi/a-vue-shop', 'https://github.com/F-loat/unique', 'https://github.com/bedus-creation/Shopping-Sahuba', 'https://github.com/Stray-Kite/Online_Shopping', 'https://github.com/Adhiambo-Cynthia/onlineshop', 'https://github.com/ozoono/vue-shop', 'https://github.com/haohaonan103/Springboot-onlineShopping', 'https://github.com/HdLily/vue-shopping', 'https://github.com/fong06/online-shop-with-vue', 'https://github.com/CassielLee/vue-online-shop-backend', 'https://github.com/w-kuiq/vue-online-shop-frontend', 'https://github.com/iabhishekraj/OnlineShopping-NodeJS-ExpressJS-VueJs-MySQL', 'https://github.com/BrianKeybet/Vue-Online-Shopping', 'https://github.com/dcwik96/OnlineShop', 'https://github.com/programmerCYY/online_shop', 'https://github.com/wizard-intraining/vueTry', 'https://github.com/wangshiz/fuji-portal', 'https://github.com/vscchencc/vue-online-shop', 'https://github.com/pt-phone-home/vue-onlineShop', 'https://github.com/ultramarichka/Vue3-online-shop', 'https://github.com/T882200/vueshop', 'https://github.com/HalShaw/Online-shop', 'https://github.com/MoiOcanas/Vue-shop', 'https://github.com/aririfani/vue-shop', 'https://github.com/rob-digital/Vue---Online-Shop-Imitation', 'https://github.com/gxhao2020/vue-online-shop-frontend', 'https://github.com/lifechat/Vue3-PyOnlineShop', 'https://github.com/tanght19/eshop', 'https://github.com/Aucdmn/OnlineShopping', 'https://github.com/zzzzzjhhhh/vue-online-shop', 'https://github.com/chenhui996/Vue-Online-Shop', 'https://github.com/JunZhenSun/Vue-online-shop', 'https://github.com/CheneyGuo916/vue-online-shop-backend', 'https://github.com/liubrook/vue-online-shop', 'https://github.com/gxhao2020/vue-online-shop-backend', 'https://github.com/Arrrrray/vue-online-shop-backend', 'https://github.com/liutkevych/vue-online-shop', 'https://github.com/jay6697117/vue-online-shop-frontend', 'https://github.com/lljoyful/vue_shop_online', 'https://github.com/blackwaterstar/online_shop_vue_admin', 'https://github.com/Arrrrray/vue-online-shop-frontend', 'https://github.com/chenhui996/Vue-Online-Shop', 'https://github.com/zzzzzjhhhh/vue-online-shop', 'https://github.com/JunZhenSun/Vue-online-shop', 'https://github.com/DoubleWoodLin/vue-online-shop', 'https://github.com/haidi20/online-shop-dengan-vue', 'https://github.com/jay6697117/vue-online-shop-frontend', 'https://github.com/elysium88/vue-online-shop-backend', 'https://github.com/Honglin-Lu/Online_Shop_Frontend_Vue', 'https://github.com/liwei3380/vue-online-shop-backend', 'https://github.com/DoubleWoodLin/vue-online-shop', 'https://github.com/lljoyful/vue_shop_online', 'https://github.com/blackwaterstar/online_shop_vue_admin', 'https://github.com/ShenJet/piwubang', 'https://github.com/giwatest/MxShop', 'https://github.com/cagilan/online-product-purchase-vue', 'https://github.com/yeminko/online-shop', 'https://github.com/tomleb3/bookie', 'https://github.com/AnnisaRizki30/FE-VueJs-Nuxt-Online-Shopping-Web', 'https://github.com/siattesting/vueonlineshop', 'https://github.com/maheralayoubi/NodeJS-VueJS-Online-Shop', 'https://github.com/agampreetsingh/shoppingAppVue', 'https://github.com/DaliaTarek96/simple-online-shopping-using-vue', 'https://github.com/oliverrochester/Online-Shopping-App-Vue.js', 'https://github.com/miyasinarafat/vue-store', 'https://github.com/NasrinHaidari/Vue-fundamental', 'https://github.com/hetiansu5/vue-mall', 'https://github.com/rp88imxo/RmlOnlineShop', 'https://github.com/yichengyiguo/onlineShop', 'https://github.com/Stoneleee/online-shop', 'https://github.com/DaSun30/vue_shop', 'https://github.com/Nereitay/C.C.Online', 'https://github.com/jczzz/vue-express-online-shop-v1', 'https://github.com/janesser/build-an-online-shop-with-vue-ts', 'https://github.com/isbard/ScotchVueShop', 'https://github.com/flaredragon/Ostore', 'https://github.com/VladislavDeveloper/e-shop_onVue.js', 'https://github.com/kryukalexander/shopping-list', 'https://github.com/MaxKortelov/shop-page', 'https://github.com/VladislavDeveloper/e-shop_onVue_webpack', 'https://github.com/Stanislavskiy/vue_cart', 'https://github.com/Mistergpofficial/meeks-onlinestore-rest-api', 'https://github.com/YunYon-Bank/yunyon-turoturo', 'https://github.com/AmanAzim/E-watch-store-VueJs', 'https://github.com/odhiamboatieno/Laravel-Vue-JS-eCommerce-Platfom', 'https://github.com/atomasso/CheckoutSystem', 'https://github.com/atomasso/CheckoutSystem', 'https://github.com/matt185/store-simulator', 'https://github.com/RIDUMATICS/Shoppers-API']"
      ]
     },
     "execution_count": 19,
     "metadata": {},
     "output_type": "execute_result"
    }
   ],
   "source": [
    "repo_urls"
   ]
  },
  {
   "cell_type": "code",
   "execution_count": 20,
   "metadata": {},
   "outputs": [],
   "source": [
    "repo_set = set(repo_urls)\n"
   ]
  },
  {
   "cell_type": "code",
   "execution_count": 21,
   "metadata": {},
   "outputs": [
    {
     "data": {
      "text/plain": [
       "85"
      ]
     },
     "execution_count": 21,
     "metadata": {},
     "output_type": "execute_result"
    }
   ],
   "source": [
    "len(repo_set)"
   ]
  },
  {
   "cell_type": "code",
   "execution_count": 11,
   "metadata": {},
   "outputs": [
    {
     "data": {
      "text/plain": [
       "0"
      ]
     },
     "execution_count": 11,
     "metadata": {},
     "output_type": "execute_result"
    }
   ],
   "source": [
    "os.system(f'git clone {repo_urls[0]}')"
   ]
  },
  {
   "cell_type": "code",
   "execution_count": 17,
   "metadata": {},
   "outputs": [],
   "source": []
  },
  {
   "cell_type": "code",
   "execution_count": 18,
   "metadata": {},
   "outputs": [
    {
     "data": {
      "text/plain": [
       "93"
      ]
     },
     "execution_count": 18,
     "metadata": {},
     "output_type": "execute_result"
    }
   ],
   "source": [
    "len(repo_urls)"
   ]
  },
  {
   "cell_type": "code",
   "execution_count": null,
   "metadata": {},
   "outputs": [],
   "source": []
  }
 ],
 "metadata": {
  "interpreter": {
   "hash": "e55c1e900cd1ffb6a5350862cad5caac9d5274a552f36af59d6547d7dc225986"
  },
  "kernelspec": {
   "display_name": "Python 3.10.2 64-bit",
   "language": "python",
   "name": "python3"
  },
  "language_info": {
   "codemirror_mode": {
    "name": "ipython",
    "version": 3
   },
   "file_extension": ".py",
   "mimetype": "text/x-python",
   "name": "python",
   "nbconvert_exporter": "python",
   "pygments_lexer": "ipython3",
   "version": "3.10.2"
  },
  "orig_nbformat": 4
 },
 "nbformat": 4,
 "nbformat_minor": 2
}
