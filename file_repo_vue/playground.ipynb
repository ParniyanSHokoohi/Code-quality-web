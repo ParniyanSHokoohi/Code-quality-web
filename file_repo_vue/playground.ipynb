{
 "cells": [
  {
   "cell_type": "code",
   "execution_count": 2,
   "metadata": {},
   "outputs": [
    {
     "name": "stdout",
     "output_type": "stream",
     "text": [
      "93\n",
      "0\n",
      "https://github.com/BosNaufal/vue-mini-shop\n",
      "1\n",
      "https://github.com/tuture-dev/vue-online-shop-frontend\n",
      "2\n",
      "https://github.com/aimeos/aimeos\n",
      "3\n",
      "https://github.com/tuture-dev/vue-online-shop-backend\n",
      "4\n",
      "https://github.com/ananyaneogi/a-vue-shop\n",
      "5\n",
      "https://github.com/F-loat/unique\n",
      "6\n",
      "https://github.com/bedus-creation/Shopping-Sahuba\n",
      "7\n",
      "https://github.com/Stray-Kite/Online_Shopping\n",
      "8\n",
      "https://github.com/Adhiambo-Cynthia/onlineshop\n",
      "9\n",
      "https://github.com/ozoono/vue-shop\n",
      "10\n",
      "https://github.com/haohaonan103/Springboot-onlineShopping\n",
      "11\n",
      "https://github.com/HdLily/vue-shopping\n",
      "12\n",
      "https://github.com/fong06/online-shop-with-vue\n",
      "13\n",
      "https://github.com/CassielLee/vue-online-shop-backend\n",
      "14\n",
      "https://github.com/w-kuiq/vue-online-shop-frontend\n",
      "15\n",
      "https://github.com/iabhishekraj/OnlineShopping-NodeJS-ExpressJS-VueJs-MySQL\n",
      "16\n",
      "https://github.com/BrianKeybet/Vue-Online-Shopping\n",
      "17\n",
      "https://github.com/dcwik96/OnlineShop\n",
      "18\n",
      "https://github.com/programmerCYY/online_shop\n",
      "19\n",
      "https://github.com/wizard-intraining/vueTry\n",
      "20\n",
      "https://github.com/wangshiz/fuji-portal\n",
      "21\n",
      "https://github.com/vscchencc/vue-online-shop\n",
      "22\n",
      "https://github.com/pt-phone-home/vue-onlineShop\n",
      "23\n",
      "https://github.com/ultramarichka/Vue3-online-shop\n",
      "24\n",
      "https://github.com/T882200/vueshop\n",
      "25\n",
      "https://github.com/HalShaw/Online-shop\n",
      "26\n",
      "https://github.com/MoiOcanas/Vue-shop\n",
      "27\n",
      "https://github.com/aririfani/vue-shop\n",
      "28\n",
      "https://github.com/rob-digital/Vue---Online-Shop-Imitation\n",
      "29\n",
      "https://github.com/gxhao2020/vue-online-shop-frontend\n",
      "30\n",
      "https://github.com/lifechat/Vue3-PyOnlineShop\n",
      "31\n",
      "https://github.com/tanght19/eshop\n",
      "32\n",
      "https://github.com/Aucdmn/OnlineShopping\n",
      "33\n",
      "https://github.com/zzzzzjhhhh/vue-online-shop\n",
      "34\n",
      "https://github.com/chenhui996/Vue-Online-Shop\n",
      "35\n",
      "https://github.com/JunZhenSun/Vue-online-shop\n",
      "36\n",
      "https://github.com/CheneyGuo916/vue-online-shop-backend\n",
      "37\n",
      "https://github.com/liubrook/vue-online-shop\n",
      "38\n",
      "https://github.com/gxhao2020/vue-online-shop-backend\n",
      "39\n",
      "https://github.com/Arrrrray/vue-online-shop-backend\n",
      "40\n",
      "https://github.com/liutkevych/vue-online-shop\n",
      "41\n",
      "https://github.com/jay6697117/vue-online-shop-frontend\n",
      "42\n",
      "https://github.com/lljoyful/vue_shop_online\n",
      "43\n",
      "https://github.com/blackwaterstar/online_shop_vue_admin\n",
      "44\n",
      "https://github.com/Arrrrray/vue-online-shop-frontend\n",
      "45\n",
      "https://github.com/chenhui996/Vue-Online-Shop\n",
      "46\n",
      "https://github.com/zzzzzjhhhh/vue-online-shop\n",
      "47\n",
      "https://github.com/JunZhenSun/Vue-online-shop\n",
      "48\n",
      "https://github.com/DoubleWoodLin/vue-online-shop\n",
      "49\n",
      "https://github.com/haidi20/online-shop-dengan-vue\n",
      "50\n",
      "https://github.com/jay6697117/vue-online-shop-frontend\n",
      "51\n",
      "https://github.com/elysium88/vue-online-shop-backend\n",
      "52\n",
      "https://github.com/Honglin-Lu/Online_Shop_Frontend_Vue\n",
      "53\n",
      "https://github.com/liwei3380/vue-online-shop-backend\n",
      "54\n",
      "https://github.com/DoubleWoodLin/vue-online-shop\n",
      "55\n",
      "https://github.com/lljoyful/vue_shop_online\n",
      "56\n",
      "https://github.com/blackwaterstar/online_shop_vue_admin\n",
      "57\n",
      "https://github.com/ShenJet/piwubang\n",
      "58\n",
      "https://github.com/giwatest/MxShop\n",
      "59\n",
      "https://github.com/cagilan/online-product-purchase-vue\n",
      "60\n",
      "https://github.com/yeminko/online-shop\n",
      "61\n",
      "https://github.com/tomleb3/bookie\n",
      "62\n",
      "https://github.com/AnnisaRizki30/FE-VueJs-Nuxt-Online-Shopping-Web\n",
      "63\n",
      "https://github.com/siattesting/vueonlineshop\n",
      "64\n",
      "https://github.com/maheralayoubi/NodeJS-VueJS-Online-Shop\n",
      "65\n",
      "https://github.com/agampreetsingh/shoppingAppVue\n",
      "66\n",
      "https://github.com/DaliaTarek96/simple-online-shopping-using-vue\n",
      "67\n",
      "https://github.com/oliverrochester/Online-Shopping-App-Vue.js\n",
      "68\n",
      "https://github.com/miyasinarafat/vue-store\n",
      "69\n",
      "https://github.com/NasrinHaidari/Vue-fundamental\n",
      "70\n",
      "https://github.com/hetiansu5/vue-mall\n",
      "71\n",
      "https://github.com/rp88imxo/RmlOnlineShop\n",
      "72\n",
      "https://github.com/yichengyiguo/onlineShop\n",
      "73\n",
      "https://github.com/Stoneleee/online-shop\n",
      "74\n",
      "https://github.com/DaSun30/vue_shop\n",
      "75\n",
      "https://github.com/Nereitay/C.C.Online\n",
      "76\n",
      "https://github.com/jczzz/vue-express-online-shop-v1\n",
      "77\n",
      "https://github.com/janesser/build-an-online-shop-with-vue-ts\n",
      "78\n",
      "https://github.com/isbard/ScotchVueShop\n",
      "79\n",
      "https://github.com/flaredragon/Ostore\n",
      "80\n",
      "https://github.com/VladislavDeveloper/e-shop_onVue.js\n",
      "81\n",
      "https://github.com/kryukalexander/shopping-list\n",
      "82\n",
      "https://github.com/MaxKortelov/shop-page\n",
      "83\n",
      "https://github.com/VladislavDeveloper/e-shop_onVue_webpack\n",
      "84\n",
      "https://github.com/Stanislavskiy/vue_cart\n",
      "85\n",
      "https://github.com/Mistergpofficial/meeks-onlinestore-rest-api\n",
      "86\n",
      "https://github.com/YunYon-Bank/yunyon-turoturo\n",
      "87\n",
      "https://github.com/AmanAzim/E-watch-store-VueJs\n",
      "88\n",
      "https://github.com/odhiamboatieno/Laravel-Vue-JS-eCommerce-Platfom\n",
      "89\n",
      "https://github.com/atomasso/CheckoutSystem\n",
      "90\n",
      "https://github.com/atomasso/CheckoutSystem\n",
      "91\n",
      "https://github.com/matt185/store-simulator\n",
      "92\n",
      "https://github.com/RIDUMATICS/Shoppers-API\n"
     ]
    }
   ],
   "source": [
    "import os\n",
    "import pickle\n",
    "from tqdm import tqdm\n",
    "\n",
    "clone_paths = {\n",
    "    'vue_js': {'repo_urls_path': 'repo_urls_vue_js.pkl',\n",
    "            'clone_dir': 'repos_vue_js/'\n",
    "            },\n",
    "    'vue_vue': {'repo_urls_path': 'repo_urls_vue_vue.pkl',\n",
    "            'clone_dir': 'repos_vue_vue/'\n",
    "            },\n",
    "    # 'react': {'repo_urls_path': 'repo_urls_react.pkl',\n",
    "    #         'clone_dir': 'repos_react/'\n",
    "    #         },\n",
    "}\n",
    "repo_urls = {}\n",
    "for framework, paths in clone_paths.items():\n",
    "    print(f'Reading urls of {framework}.')\n",
    "    with open(paths['repo_urls_path'], 'rb') as f:\n",
    "        repo_urls[f'{framework}'] = pickle.load(f)\n",
    "    n_urls = len(set(repo_urls))\n",
    "    print(f'Read {n_urls} URLs.')    \n",
    "for i, repo_url in tqdm (enumerate(repo_urls), desc='Cloning repos...'):\n",
    "    url_parts = repo_url.split('/')\n",
    "    repo_name = '_'.join(url_parts[-2:])\n",
    "    os.system(f'git clone {repo_url} {repo_name}')"
   ]
  },
  {
   "cell_type": "code",
   "execution_count": 35,
   "metadata": {},
   "outputs": [
    {
     "name": "stderr",
     "output_type": "stream",
     "text": [
      "Cloning repos...: 332it [21:49,  3.95s/it]\n",
      "Cloning repos...: 337it [16:00,  2.85s/it]\n",
      "Cloning repos...: 360it [28:45,  4.79s/it]\n"
     ]
    }
   ],
   "source": [
    "for framework in ['vue', 'react', 'angular']:\n",
    "    with open(f'repo_urls_{framework}.pkl', 'rb') as f:\n",
    "        urls = pickle.load(f)\n",
    "    for i, url in tqdm (enumerate(urls), desc='Cloning repos...'):\n",
    "        url_parts = url.split('/')\n",
    "        repo_name = '_'.join(url_parts[-2:])\n",
    "        repo_name = f'repos/{framework}/{repo_name}'\n",
    "        os.system(f'git clone {url} {repo_name}')"
   ]
  },
  {
   "cell_type": "code",
   "execution_count": null,
   "metadata": {},
   "outputs": [
    {
     "name": "stdout",
     "output_type": "stream",
     "text": [
      "262\n"
     ]
    }
   ],
   "source": [
    "vue  = set(repo_urls['vue_js'])\n",
    "vue_vue = set(repo_urls['vue_vue'])\n",
    "vue_vue.update(vue)\n",
    "print(len(vue_vue))"
   ]
  },
  {
   "cell_type": "code",
   "execution_count": null,
   "metadata": {},
   "outputs": [
    {
     "ename": "KeyError",
     "evalue": "0",
     "output_type": "error",
     "traceback": [
      "\u001b[1;31m---------------------------------------------------------------------------\u001b[0m",
      "\u001b[1;31mKeyError\u001b[0m                                  Traceback (most recent call last)",
      "\u001b[1;32mc:\\Users\\Aleks\\Documents\\мои\\uni\\softwareTech\\Projekt\\Code\\code-quality-web\\playground.ipynb Cell 4'\u001b[0m in \u001b[0;36m<cell line: 1>\u001b[1;34m()\u001b[0m\n\u001b[1;32m----> <a href='vscode-notebook-cell:/c%3A/Users/Aleks/Documents/%D0%BC%D0%BE%D0%B8/uni/softwareTech/Projekt/Code/code-quality-web/playground.ipynb#ch0000003?line=0'>1</a>\u001b[0m \u001b[39mprint\u001b[39m(\u001b[39mlen\u001b[39m(\u001b[39mset\u001b[39m(repo_urls[\u001b[39m0\u001b[39;49m])))\n",
      "\u001b[1;31mKeyError\u001b[0m: 0"
     ]
    }
   ],
   "source": [
    "print(len(set(repo_urls))"
   ]
  },
  {
   "cell_type": "code",
   "execution_count": null,
   "metadata": {},
   "outputs": [],
   "source": [
    "repo_urls"
   ]
  },
  {
   "cell_type": "code",
   "execution_count": null,
   "metadata": {},
   "outputs": [],
   "source": [
    "import pickle\n",
    "from pprint import pprint"
   ]
  },
  {
   "cell_type": "code",
   "execution_count": null,
   "metadata": {},
   "outputs": [],
   "source": [
    "with open('attributes', 'rb') as f:\n",
    "    attrs = pickle.load(f)"
   ]
  },
  {
   "cell_type": "code",
   "execution_count": null,
   "metadata": {},
   "outputs": [],
   "source": [
    "with open('repo_urls_vue_api.pkl', 'rb') as f:\n",
    "    repos = pickle.load(f)"
   ]
  },
  {
   "cell_type": "code",
   "execution_count": null,
   "metadata": {},
   "outputs": [
    {
     "data": {
      "text/plain": [
       "320"
      ]
     },
     "execution_count": 7,
     "metadata": {},
     "output_type": "execute_result"
    }
   ],
   "source": [
    "len(set(repos))"
   ]
  },
  {
   "cell_type": "code",
   "execution_count": null,
   "metadata": {},
   "outputs": [
    {
     "name": "stdout",
     "output_type": "stream",
     "text": [
      "{}\n"
     ]
    }
   ],
   "source": [
    "print(attrs)"
   ]
  },
  {
   "cell_type": "code",
   "execution_count": null,
   "metadata": {},
   "outputs": [],
   "source": [
    "repos"
   ]
  },
  {
   "cell_type": "code",
   "execution_count": null,
   "metadata": {},
   "outputs": [],
   "source": [
    "repo_set = set(repo_urls)\n"
   ]
  },
  {
   "cell_type": "code",
   "execution_count": null,
   "metadata": {},
   "outputs": [
    {
     "data": {
      "text/plain": [
       "85"
      ]
     },
     "execution_count": 21,
     "metadata": {},
     "output_type": "execute_result"
    }
   ],
   "source": [
    "len(repo_set)"
   ]
  },
  {
   "cell_type": "code",
   "execution_count": null,
   "metadata": {},
   "outputs": [
    {
     "data": {
      "text/plain": [
       "0"
      ]
     },
     "execution_count": 11,
     "metadata": {},
     "output_type": "execute_result"
    }
   ],
   "source": [
    "os.system(f'git clone {repo_urls[0]}')"
   ]
  },
  {
   "cell_type": "code",
   "execution_count": null,
   "metadata": {},
   "outputs": [
    {
     "ename": "NameError",
     "evalue": "name 'pickle' is not defined",
     "output_type": "error",
     "traceback": [
      "\u001b[1;31m---------------------------------------------------------------------------\u001b[0m",
      "\u001b[1;31mNameError\u001b[0m                                 Traceback (most recent call last)",
      "\u001b[1;32mc:\\Users\\Aleks\\Documents\\мои\\uni\\softwareTech\\Projekt\\Code\\code-quality-web\\playground.ipynb Cell 6'\u001b[0m in \u001b[0;36m<cell line: 1>\u001b[1;34m()\u001b[0m\n\u001b[0;32m      <a href='vscode-notebook-cell:/c%3A/Users/Aleks/Documents/%D0%BC%D0%BE%D0%B8/uni/softwareTech/Projekt/Code/code-quality-web/playground.ipynb#ch0000005?line=0'>1</a>\u001b[0m \u001b[39mwith\u001b[39;00m \u001b[39mopen\u001b[39m(\u001b[39m'\u001b[39m\u001b[39mrepo_urls_vue_js.pkl\u001b[39m\u001b[39m'\u001b[39m, \u001b[39m'\u001b[39m\u001b[39mrb\u001b[39m\u001b[39m'\u001b[39m) \u001b[39mas\u001b[39;00m f:\n\u001b[1;32m----> <a href='vscode-notebook-cell:/c%3A/Users/Aleks/Documents/%D0%BC%D0%BE%D0%B8/uni/softwareTech/Projekt/Code/code-quality-web/playground.ipynb#ch0000005?line=1'>2</a>\u001b[0m         test_urls \u001b[39m=\u001b[39m pickle\u001b[39m.\u001b[39mload(f)\n",
      "\u001b[1;31mNameError\u001b[0m: name 'pickle' is not defined"
     ]
    }
   ],
   "source": [
    "with open('repo_urls_vue_js.pkl', 'rb') as f:\n",
    "        test_urls = pickle.load(f)"
   ]
  },
  {
   "cell_type": "code",
   "execution_count": null,
   "metadata": {},
   "outputs": [
    {
     "data": {
      "text/plain": [
       "93"
      ]
     },
     "execution_count": 18,
     "metadata": {},
     "output_type": "execute_result"
    }
   ],
   "source": [
    "len(repo_urls)#C:\\Users\\Aleks\\AppData\\Local\\Programs\\Python\\Python310"
   ]
  },
  {
   "cell_type": "code",
   "execution_count": null,
   "metadata": {},
   "outputs": [
    {
     "data": {
      "text/plain": [
       "188"
      ]
     },
     "execution_count": 15,
     "metadata": {},
     "output_type": "execute_result"
    }
   ],
   "source": [
    "len(test_urls)"
   ]
  },
  {
   "cell_type": "code",
   "execution_count": null,
   "metadata": {},
   "outputs": [],
   "source": [
    "import pandas as pd"
   ]
  },
  {
   "cell_type": "code",
   "execution_count": 28,
   "metadata": {},
   "outputs": [],
   "source": [
    "vue = pd.read_csv('attributes_online+shop+vue_2.csv', index_col=0)\n",
    "react = pd.read_csv('attributes_online+shop+react_2.csv', index_col=0)\n",
    "angular = pd.read_csv('attributes_online+shop+angular_2.csv', index_col=0)"
   ]
  },
  {
   "cell_type": "code",
   "execution_count": 29,
   "metadata": {},
   "outputs": [],
   "source": [
    "vue['framework'] = ['vue']*len(vue)\n",
    "react['framework'] = ['react']*len(react)\n",
    "angular['framework'] = ['angular']*len(angular)"
   ]
  },
  {
   "cell_type": "code",
   "execution_count": 30,
   "metadata": {},
   "outputs": [],
   "source": [
    "attributes = pd.concat([vue, react,angular], ignore_index=True)"
   ]
  },
  {
   "cell_type": "code",
   "execution_count": 31,
   "metadata": {},
   "outputs": [],
   "source": [
    "attributes.to_csv('attributes.csv')"
   ]
  },
  {
   "cell_type": "code",
   "execution_count": 24,
   "metadata": {},
   "outputs": [
    {
     "data": {
      "text/plain": [
       "1044"
      ]
     },
     "execution_count": 24,
     "metadata": {},
     "output_type": "execute_result"
    }
   ],
   "source": [
    "len(attributes)"
   ]
  },
  {
   "cell_type": "code",
   "execution_count": 23,
   "metadata": {},
   "outputs": [
    {
     "data": {
      "text/html": [
       "<div>\n",
       "<style scoped>\n",
       "    .dataframe tbody tr th:only-of-type {\n",
       "        vertical-align: middle;\n",
       "    }\n",
       "\n",
       "    .dataframe tbody tr th {\n",
       "        vertical-align: top;\n",
       "    }\n",
       "\n",
       "    .dataframe thead th {\n",
       "        text-align: right;\n",
       "    }\n",
       "</style>\n",
       "<table border=\"1\" class=\"dataframe\">\n",
       "  <thead>\n",
       "    <tr style=\"text-align: right;\">\n",
       "      <th></th>\n",
       "      <th>owner</th>\n",
       "      <th>name</th>\n",
       "      <th>full_name</th>\n",
       "      <th>clone_url</th>\n",
       "      <th>forks</th>\n",
       "      <th>watchers</th>\n",
       "      <th>open_issues</th>\n",
       "      <th>describtion</th>\n",
       "      <th>describtion_length</th>\n",
       "      <th>size</th>\n",
       "      <th>branches</th>\n",
       "      <th>framework</th>\n",
       "    </tr>\n",
       "  </thead>\n",
       "  <tbody>\n",
       "    <tr>\n",
       "      <th>0</th>\n",
       "      <td>BosNaufal</td>\n",
       "      <td>vue-mini-shop</td>\n",
       "      <td>BosNaufal/vue-mini-shop</td>\n",
       "      <td>https://github.com/BosNaufal/vue-mini-shop.git</td>\n",
       "      <td>87</td>\n",
       "      <td>260</td>\n",
       "      <td>2</td>\n",
       "      <td>Mini Online Shop Built With Vue JS</td>\n",
       "      <td>34</td>\n",
       "      <td>2763</td>\n",
       "      <td>2</td>\n",
       "      <td>vue</td>\n",
       "    </tr>\n",
       "    <tr>\n",
       "      <th>1</th>\n",
       "      <td>tuture-dev</td>\n",
       "      <td>vue-online-shop-frontend</td>\n",
       "      <td>tuture-dev/vue-online-shop-frontend</td>\n",
       "      <td>https://github.com/tuture-dev/vue-online-shop-...</td>\n",
       "      <td>54</td>\n",
       "      <td>182</td>\n",
       "      <td>5</td>\n",
       "      <td>《从零到部署：用 Vue 和 Express 实现迷你全栈电商应用》全栈代码</td>\n",
       "      <td>38</td>\n",
       "      <td>4941</td>\n",
       "      <td>2</td>\n",
       "      <td>vue</td>\n",
       "    </tr>\n",
       "    <tr>\n",
       "      <th>2</th>\n",
       "      <td>aimeos</td>\n",
       "      <td>aimeos</td>\n",
       "      <td>aimeos/aimeos</td>\n",
       "      <td>https://github.com/aimeos/aimeos.git</td>\n",
       "      <td>182</td>\n",
       "      <td>2767</td>\n",
       "      <td>2</td>\n",
       "      <td>Integrated online shop based on Laravel 9 and ...</td>\n",
       "      <td>172</td>\n",
       "      <td>3807</td>\n",
       "      <td>2</td>\n",
       "      <td>vue</td>\n",
       "    </tr>\n",
       "    <tr>\n",
       "      <th>3</th>\n",
       "      <td>tuture-dev</td>\n",
       "      <td>vue-online-shop-backend</td>\n",
       "      <td>tuture-dev/vue-online-shop-backend</td>\n",
       "      <td>https://github.com/tuture-dev/vue-online-shop-...</td>\n",
       "      <td>27</td>\n",
       "      <td>56</td>\n",
       "      <td>0</td>\n",
       "      <td>《从零到部署：用 Vue 和 Express 实现迷你全栈电商应用》后端代码</td>\n",
       "      <td>38</td>\n",
       "      <td>3794</td>\n",
       "      <td>2</td>\n",
       "      <td>vue</td>\n",
       "    </tr>\n",
       "    <tr>\n",
       "      <th>4</th>\n",
       "      <td>travishorn</td>\n",
       "      <td>vue-online-store-demo</td>\n",
       "      <td>travishorn/vue-online-store-demo</td>\n",
       "      <td>https://github.com/travishorn/vue-online-store...</td>\n",
       "      <td>35</td>\n",
       "      <td>44</td>\n",
       "      <td>10</td>\n",
       "      <td>An online store and shopping cart demo written...</td>\n",
       "      <td>58</td>\n",
       "      <td>1090</td>\n",
       "      <td>2</td>\n",
       "      <td>vue</td>\n",
       "    </tr>\n",
       "  </tbody>\n",
       "</table>\n",
       "</div>"
      ],
      "text/plain": [
       "        owner                      name                            full_name  \\\n",
       "0   BosNaufal             vue-mini-shop              BosNaufal/vue-mini-shop   \n",
       "1  tuture-dev  vue-online-shop-frontend  tuture-dev/vue-online-shop-frontend   \n",
       "2      aimeos                    aimeos                        aimeos/aimeos   \n",
       "3  tuture-dev   vue-online-shop-backend   tuture-dev/vue-online-shop-backend   \n",
       "4  travishorn     vue-online-store-demo     travishorn/vue-online-store-demo   \n",
       "\n",
       "                                           clone_url  forks  watchers  \\\n",
       "0     https://github.com/BosNaufal/vue-mini-shop.git     87       260   \n",
       "1  https://github.com/tuture-dev/vue-online-shop-...     54       182   \n",
       "2               https://github.com/aimeos/aimeos.git    182      2767   \n",
       "3  https://github.com/tuture-dev/vue-online-shop-...     27        56   \n",
       "4  https://github.com/travishorn/vue-online-store...     35        44   \n",
       "\n",
       "   open_issues                                        describtion  \\\n",
       "0            2                 Mini Online Shop Built With Vue JS   \n",
       "1            5             《从零到部署：用 Vue 和 Express 实现迷你全栈电商应用》全栈代码   \n",
       "2            2  Integrated online shop based on Laravel 9 and ...   \n",
       "3            0             《从零到部署：用 Vue 和 Express 实现迷你全栈电商应用》后端代码   \n",
       "4           10  An online store and shopping cart demo written...   \n",
       "\n",
       "   describtion_length  size  branches framework  \n",
       "0                  34  2763         2       vue  \n",
       "1                  38  4941         2       vue  \n",
       "2                 172  3807         2       vue  \n",
       "3                  38  3794         2       vue  \n",
       "4                  58  1090         2       vue  "
      ]
     },
     "execution_count": 23,
     "metadata": {},
     "output_type": "execute_result"
    }
   ],
   "source": [
    "attributes.head()"
   ]
  },
  {
   "cell_type": "code",
   "execution_count": 32,
   "metadata": {},
   "outputs": [
    {
     "data": {
      "text/plain": [
       "360"
      ]
     },
     "execution_count": 32,
     "metadata": {},
     "output_type": "execute_result"
    }
   ],
   "source": [
    "S_u = set(angular['clone_url'])\n",
    "len(S_u)"
   ]
  },
  {
   "cell_type": "code",
   "execution_count": 33,
   "metadata": {},
   "outputs": [
    {
     "data": {
      "text/plain": [
       "360"
      ]
     },
     "execution_count": 33,
     "metadata": {},
     "output_type": "execute_result"
    }
   ],
   "source": [
    "len(angular)"
   ]
  },
  {
   "cell_type": "code",
   "execution_count": 19,
   "metadata": {},
   "outputs": [
    {
     "data": {
      "text/plain": [
       "False"
      ]
     },
     "execution_count": 19,
     "metadata": {},
     "output_type": "execute_result"
    }
   ],
   "source": [
    "x = [{'A':1},{'B':1}]\n",
    "t = {'A':5}\n",
    "t in x"
   ]
  },
  {
   "cell_type": "code",
   "execution_count": null,
   "metadata": {},
   "outputs": [],
   "source": []
  }
 ],
 "metadata": {
  "kernelspec": {
   "display_name": "Python 3.6.8 64-bit ('3.6.8')",
   "language": "python",
   "name": "python3"
  },
  "language_info": {
   "codemirror_mode": {
    "name": "ipython",
    "version": 3
   },
   "file_extension": ".py",
   "mimetype": "text/x-python",
   "name": "python",
   "nbconvert_exporter": "python",
   "pygments_lexer": "ipython3",
   "version": "3.6.8"
  },
  "orig_nbformat": 4,
  "vscode": {
   "interpreter": {
    "hash": "a3084050b1e003d70349b096455327c8845641a2efdeb085f368b3b3c543fc47"
   }
  }
 },
 "nbformat": 4,
 "nbformat_minor": 2
}
